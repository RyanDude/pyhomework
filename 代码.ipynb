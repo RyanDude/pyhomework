{
 "cells": [
  {
   "cell_type": "code",
   "execution_count": 51,
   "id": "dff47fe9",
   "metadata": {},
   "outputs": [],
   "source": [
    "from sklearn.datasets import fetch_openml\n",
    "from sklearn.model_selection import train_test_split,GridSearchCV\n",
    "from sklearn.svm import SVC\n",
    "from sklearn.neighbors import KNeighborsClassifier\n",
    "from sklearn.linear_model import LogisticRegression\n",
    "import matplotlib.pyplot as plt\n",
    "import numpy as np\n",
    "phoneme = fetch_openml(name='phoneme')\n",
    "X = phoneme.data\n",
    "y = np.vectorize(lambda x: int(x)-1)(phoneme.target)"
   ]
  },
  {
   "cell_type": "code",
   "execution_count": 33,
   "id": "2893694e",
   "metadata": {},
   "outputs": [],
   "source": [
    "X_train,X_test,y_train,y_test = train_test_split(X.values,y,test_size=0.2,random_state=0)"
   ]
  },
  {
   "cell_type": "code",
   "execution_count": 34,
   "id": "3feef987",
   "metadata": {},
   "outputs": [],
   "source": [
    "models = {\n",
    "    \"KNN\":KNeighborsClassifier(),\n",
    "    'SVM':SVC(kernel='rbf',random_state=0),\n",
    "    'Logistic Regression':LogisticRegression(random_state=0)\n",
    "}"
   ]
  },
  {
   "cell_type": "code",
   "execution_count": 35,
   "id": "1eadac2a",
   "metadata": {},
   "outputs": [],
   "source": [
    "class CrossValidation():\n",
    "    def __init__(self,features,labels,cv_num):\n",
    "        self.features = features\n",
    "        self.labels = labels\n",
    "        self.cv_num = cv_num\n",
    "        train = np.hstack((self.features, self.labels.reshape(-1,1)))\n",
    "        m,n = train.shape\n",
    "        ratio = 1/self.cv_num\n",
    "        every_fold_num = int(m*ratio)\n",
    "        self.train_fold = []\n",
    "        self.valid_fold = []\n",
    "        for i in range(self.cv_num):\n",
    "            valid_data = train[every_fold_num*i:every_fold_num*(i+1)]\n",
    "            aset = set([tuple(x) for x in train])\n",
    "            bset = set([tuple(x) for x in valid_data])\n",
    "            train_data = np.array([x for x in aset-bset])\n",
    "            self.valid_fold.append(valid_data)\n",
    "            self.train_fold.append(train_data)     \n",
    "        self.cur = 0 \n",
    "        \n",
    "    def __iter__(self):\n",
    "        return self\n",
    "    \n",
    "    def __next__(self):\n",
    "        if self.cur >= len(self.train_fold):\n",
    "            raise StopIteration\n",
    "        cur_train_data = self.train_fold[self.cur]\n",
    "        cur_valid_data = self.valid_fold[self.cur]\n",
    "        self.cur += 1\n",
    "        return self.cur, cur_train_data,cur_valid_data"
   ]
  },
  {
   "cell_type": "code",
   "execution_count": 47,
   "id": "69a9fd86",
   "metadata": {},
   "outputs": [
    {
     "name": "stdout",
     "output_type": "stream",
     "text": [
      "model--KNN,mean_acc=0.8729166666666668,mean_f1=0.7743537247875517,mean_roc=0.8360447970957221,mean_precision=0.804544417166241,mean_recall=0.7478806704265579\n",
      "model--SVM,mean_acc=0.8412037037037038,mean_f1=0.727885244700518,mean_roc=0.8072826891094402,mean_precision=0.7307579637973175,mean_recall=0.7255730180491871\n",
      "model--Logistic Regression,mean_acc=0.7537037037037038,mean_f1=0.5279162032280598,mean_roc=0.6713114437199138,mean_precision=0.6013975421994544,mean_recall=0.4715003449585266\n"
     ]
    }
   ],
   "source": [
    "from sklearn.metrics import auc,roc_auc_score,f1_score,accuracy_score,precision_score,recall_score\n",
    "roc_auc_test = dict()\n",
    "roc_auc_train = dict()\n",
    "for name,model in models.items():\n",
    "    cv = CrossValidation(X_train,y_train,10)\n",
    "    accuracy_ = list()\n",
    "    f1_ = list()\n",
    "    roc_ = list()\n",
    "    precision_ = list()\n",
    "    recall_ = list()\n",
    "    roc_auc_test[name] = list()\n",
    "    roc_auc_train[name] = list()\n",
    "    for (cur,train_data,val_data) in cv:\n",
    "        model.fit(train_data[:,:-1],train_data[:,-1])\n",
    "        X_val,y_val = val_data[:,:-1],val_data[:,-1]\n",
    "        roc_auc_train[name].append(roc_auc_score(train_data[:,-1],model.predict(train_data[:,:-1])))\n",
    "        y_pred = model.predict(X_val)\n",
    "        accuracy_.append(accuracy_score(y_val,y_pred))\n",
    "        f1_.append(f1_score(y_val,y_pred))\n",
    "        roc_.append(roc_auc_score(y_val,y_pred))\n",
    "        roc_auc_test[name].append(roc_auc_score(y_val,y_pred))\n",
    "        precision_.append(precision_score(y_val,y_pred))\n",
    "        recall_.append(recall_score(y_val,y_pred))\n",
    "    print(f\"model--{name},mean_acc={np.mean(accuracy_)},mean_f1={np.mean(f1_)},mean_roc={np.mean(roc_)},mean_precision={np.mean(precision_)},mean_recall={np.mean(recall_)}\")"
   ]
  },
  {
   "cell_type": "code",
   "execution_count": 48,
   "id": "46c3398f",
   "metadata": {},
   "outputs": [],
   "source": [
    "import pandas as pd\n",
    "df1 = pd.DataFrame(roc_auc_train)\n",
    "df2 = pd.DataFrame(roc_auc_test)"
   ]
  },
  {
   "cell_type": "code",
   "execution_count": 49,
   "id": "c8bd638f",
   "metadata": {},
   "outputs": [
    {
     "data": {
      "text/plain": [
       "<AxesSubplot:>"
      ]
     },
     "execution_count": 49,
     "metadata": {},
     "output_type": "execute_result"
    },
    {
     "data": {
      "image/png": "[encoded data removed]",
      "text/plain": [
       "<Figure size 432x288 with 1 Axes>"
      ]
     },
     "metadata": {
      "needs_background": "light"
     },
     "output_type": "display_data"
    }
   ],
   "source": [
    "df1.plot.box()"
   ]
  },
  {
   "cell_type": "code",
   "execution_count": 50,
   "id": "1b6b2fb9",
   "metadata": {},
   "outputs": [
    {
     "data": {
      "text/plain": [
       "<AxesSubplot:>"
      ]
     },
     "execution_count": 50,
     "metadata": {},
     "output_type": "execute_result"
    },
    {
     "data": {
      "image/png": "[encoded data removed]",
      "text/plain": [
       "<Figure size 432x288 with 1 Axes>"
      ]
     },
     "metadata": {
      "needs_background": "light"
     },
     "output_type": "display_data"
    }
   ],
   "source": [
    "df2.plot.box()"
   ]
  },
  {
   "cell_type": "code",
   "execution_count": 70,
   "id": "45bb4647",
   "metadata": {},
   "outputs": [],
   "source": [
    "knn_params = {\n",
    "    'n_neighbors':[4,5,6,7,8]\n",
    "}\n",
    "grid_search_knn = GridSearchCV(KNeighborsClassifier(),param_grid=knn_params,scoring='roc_auc',cv=10)"
   ]
  },
  {
   "cell_type": "code",
   "execution_count": 71,
   "id": "c3f17ba9",
   "metadata": {},
   "outputs": [
    {
     "data": {
      "text/plain": [
       "{'mean_fit_time': array([0.00449991, 0.00417812, 0.00407581, 0.00400753, 0.00400295]),\n",
       " 'std_fit_time': array([8.23011715e-04, 3.23567007e-04, 1.88403901e-04, 1.70357708e-05,\n",
       "        2.44232343e-05]),\n",
       " 'mean_score_time': array([0.00387692, 0.00375042, 0.00388534, 0.00389791, 0.00400012]),\n",
       " 'std_score_time': array([7.41232941e-04, 4.15327563e-04, 3.07983931e-04, 2.99596487e-04,\n",
       "        2.09748872e-05]),\n",
       " 'param_n_neighbors': masked_array(data=[4, 5, 6, 7, 8],\n",
       "              mask=[False, False, False, False, False],\n",
       "        fill_value='?',\n",
       "             dtype=object),\n",
       " 'params': [{'n_neighbors': 4},\n",
       "  {'n_neighbors': 5},\n",
       "  {'n_neighbors': 6},\n",
       "  {'n_neighbors': 7},\n",
       "  {'n_neighbors': 8}],\n",
       " 'split0_test_score': array([0.90849673, 0.92387165, 0.92762853, 0.92589162, 0.92724255]),\n",
       " 'split1_test_score': array([0.89915599, 0.90652823, 0.90488138, 0.90980907, 0.90697854]),\n",
       " 'split2_test_score': array([0.9391951 , 0.94139519, 0.9460527 , 0.94685039, 0.94929494]),\n",
       " 'split3_test_score': array([0.91857298, 0.91734101, 0.91836549, 0.91933811, 0.92177612]),\n",
       " 'split4_test_score': array([0.91671854, 0.91211485, 0.91431943, 0.91774302, 0.9196234 ]),\n",
       " 'split5_test_score': array([0.93793727, 0.939241  , 0.93543307, 0.93895702, 0.93822125]),\n",
       " 'split6_test_score': array([0.89357171, 0.89944495, 0.90771912, 0.91378598, 0.91403124]),\n",
       " 'split7_test_score': array([0.92412547, 0.92732671, 0.9335872 , 0.93269653, 0.93256745]),\n",
       " 'split8_test_score': array([0.94928359, 0.95266555, 0.95204595, 0.94990319, 0.94955467]),\n",
       " 'split9_test_score': array([0.90917775, 0.90796437, 0.91010714, 0.91740028, 0.91786498]),\n",
       " 'mean_test_score': array([0.91962351, 0.92278935, 0.925014  , 0.92723752, 0.92771551]),\n",
       " 'std_test_score': array([0.01720031, 0.01644377, 0.0156444 , 0.01342151, 0.01375438]),\n",
       " 'rank_test_score': array([5, 4, 3, 2, 1])}"
      ]
     },
     "execution_count": 71,
     "metadata": {},
     "output_type": "execute_result"
    }
   ],
   "source": [
    "grid_search_knn.fit(X_train,y_train)  \n",
    "grid_search_knn.cv_results_ "
   ]
  },
  {
   "cell_type": "code",
   "execution_count": 92,
   "id": "248b11c1",
   "metadata": {},
   "outputs": [
    {
     "data": {
      "text/plain": [
       "<AxesSubplot:>"
      ]
     },
     "execution_count": 92,
     "metadata": {},
     "output_type": "execute_result"
    },
    {
     "data": {
      "image/png": "[encoded data removed]",
      "text/plain": [
       "<Figure size 432x288 with 1 Axes>"
      ]
     },
     "metadata": {
      "needs_background": "light"
     },
     "output_type": "display_data"
    }
   ],
   "source": [
    "knn_results = list()\n",
    "for k in grid_search_knn.cv_results_.keys():\n",
    "    if k.startswith('split'):\n",
    "        knn_results.append(sorted(grid_search_knn.cv_results_[k]))\n",
    "knn_results = np.array(knn_results)\n",
    "pd.DataFrame(knn_results,columns=['4','5','6','7','8']).plot.box()"
   ]
  },
  {
   "cell_type": "code",
   "execution_count": 72,
   "id": "e754bd38",
   "metadata": {},
   "outputs": [
    {
     "data": {
      "text/plain": [
       "{'n_neighbors': 8}"
      ]
     },
     "execution_count": 72,
     "metadata": {},
     "output_type": "execute_result"
    }
   ],
   "source": [
    "grid_search_knn.best_params_"
   ]
  },
  {
   "cell_type": "code",
   "execution_count": 73,
   "id": "0a71ed1e",
   "metadata": {},
   "outputs": [
    {
     "data": {
      "text/plain": [
       "0.9277155130466721"
      ]
     },
     "execution_count": 73,
     "metadata": {},
     "output_type": "execute_result"
    }
   ],
   "source": [
    "grid_search_knn.best_score_ "
   ]
  },
  {
   "cell_type": "code",
   "execution_count": 76,
   "id": "40daff3b",
   "metadata": {},
   "outputs": [],
   "source": [
    "svm_params = {\n",
    "    'kernel':['rbf','poly']\n",
    "}\n",
    "grid_search_svm = GridSearchCV(SVC(random_state=0),param_grid=svm_params,scoring='roc_auc',cv=10)"
   ]
  },
  {
   "cell_type": "code",
   "execution_count": 77,
   "id": "6bcba42f",
   "metadata": {},
   "outputs": [
    {
     "data": {
      "text/plain": [
       "{'mean_fit_time': array([0.1873306 , 0.25095394]),\n",
       " 'std_fit_time': array([0.00407087, 0.01120929]),\n",
       " 'mean_score_time': array([0.05529428, 0.013433  ]),\n",
       " 'std_score_time': array([0.00258337, 0.00036767]),\n",
       " 'param_kernel': masked_array(data=['rbf', 'poly'],\n",
       "              mask=[False, False],\n",
       "        fill_value='?',\n",
       "             dtype=object),\n",
       " 'params': [{'kernel': 'rbf'}, {'kernel': 'poly'}],\n",
       " 'split0_test_score': array([0.90739025, 0.83256137]),\n",
       " 'split1_test_score': array([0.88816839, 0.82630848]),\n",
       " 'split2_test_score': array([0.92527405, 0.85914261]),\n",
       " 'split3_test_score': array([0.88240481, 0.83605664]),\n",
       " 'split4_test_score': array([0.88940761, 0.8345264 ]),\n",
       " 'split5_test_score': array([0.92110494, 0.85256228]),\n",
       " 'split6_test_score': array([0.90365303, 0.82411256]),\n",
       " 'split7_test_score': array([0.91922034, 0.85540209]),\n",
       " 'split8_test_score': array([0.92761069, 0.87195043]),\n",
       " 'split9_test_score': array([0.89817994, 0.82256357]),\n",
       " 'mean_test_score': array([0.90624141, 0.84151864]),\n",
       " 'std_test_score': array([0.01568268, 0.01613686]),\n",
       " 'rank_test_score': array([1, 2])}"
      ]
     },
     "execution_count": 77,
     "metadata": {},
     "output_type": "execute_result"
    }
   ],
   "source": [
    "grid_search_svm.fit(X_train,y_train)  \n",
    "grid_search_svm.cv_results_ "
   ]
  },
  {
   "cell_type": "code",
   "execution_count": 89,
   "id": "44e3c376",
   "metadata": {},
   "outputs": [
    {
     "data": {
      "text/plain": [
       "<AxesSubplot:>"
      ]
     },
     "execution_count": 89,
     "metadata": {},
     "output_type": "execute_result"
    },
    {
     "data": {
      "image/png": "[encoded data removed]",
      "text/plain": [
       "<Figure size 432x288 with 1 Axes>"
      ]
     },
     "metadata": {
      "needs_background": "light"
     },
     "output_type": "display_data"
    }
   ],
   "source": [
    "svm_results = list()\n",
    "for k in grid_search_svm.cv_results_.keys():\n",
    "    if k.startswith('split'):\n",
    "        svm_results.append(grid_search_svm.cv_results_[k])\n",
    "svm_results = np.array(svm_results)\n",
    "pd.DataFrame(svm_results,columns=['rbf','poly']).plot.box()"
   ]
  },
  {
   "cell_type": "code",
   "execution_count": 90,
   "id": "e6638d46",
   "metadata": {},
   "outputs": [
    {
     "data": {
      "text/plain": [
       "{'kernel': 'rbf'}"
      ]
     },
     "execution_count": 90,
     "metadata": {},
     "output_type": "execute_result"
    }
   ],
   "source": [
    "grid_search_svm.best_params_"
   ]
  },
  {
   "cell_type": "code",
   "execution_count": 91,
   "id": "08dc531b",
   "metadata": {},
   "outputs": [
    {
     "data": {
      "text/plain": [
       "0.9062414061523141"
      ]
     },
     "execution_count": 91,
     "metadata": {},
     "output_type": "execute_result"
    }
   ],
   "source": [
    "grid_search_svm.best_score_ "
   ]
  },
  {
   "cell_type": "code",
   "execution_count": null,
   "id": "b8524bdd",
   "metadata": {},
   "outputs": [],
   "source": []
  }
 ],
 "metadata": {
  "kernelspec": {
   "display_name": "Python 3",
   "language": "python",
   "name": "python3"
  },
  "language_info": {
   "codemirror_mode": {
    "name": "ipython",
    "version": 3
   },
   "file_extension": ".py",
   "mimetype": "text/x-python",
   "name": "python",
   "nbconvert_exporter": "python",
   "pygments_lexer": "ipython3",
   "version": "3.8.8"
  }
 },
 "nbformat": 4,
 "nbformat_minor": 5
}
