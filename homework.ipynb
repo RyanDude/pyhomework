{
  "nbformat": 4,
  "nbformat_minor": 0,
  "metadata": {
    "colab": {
      "name": "Untitled6.ipynb",
      "provenance": []
    },
    "kernelspec": {
      "name": "python3",
      "display_name": "Python 3"
    },
    "language_info": {
      "name": "python"
    }
  },
  "cells": [
    {
      "cell_type": "code",
      "metadata": {
        "id": "c-bhG-nht44-"
      },
      "source": [
        "import numpy as np\n",
        "from sklearn import datasets\n",
        "import matplotlib.pyplot as plt\n",
        "mnist = datasets.fetch_openml('mnist_784', version=1, return_X_y=True)\n",
        "X, y = mnist\n",
        "n = int(np.ceil(np.sqrt(X.shape[1])))"
      ],
      "execution_count": 107,
      "outputs": []
    },
    {
      "cell_type": "code",
      "metadata": {
        "id": "wsjOOvZcxTfM"
      },
      "source": [
        "def NMF(X, N=None, K=25,num_iter=1000, eta=1e-3): \n",
        "  N = N\n",
        "\n",
        "  def update_matrix(X, H, W, eta=1e-3): \n",
        "      w_diff = eta * (np.dot(H.T, X) - np.dot(np.dot(H.T, H), W))\n",
        "      h_diff = eta * (np.dot(X, W.T) - np.dot(np.dot(H,W), W.T)) \n",
        "      return h_diff, w_diff\n",
        "  H = np.random.rand(N, K)\n",
        "  W = np.random.rand(K, N)\n",
        "  X_max = X.max() \n",
        "  X /= X_max \n",
        "  for i in range(num_iter): \n",
        "      h_diff, w_diff = update_matrix(X, H, W, eta=eta) \n",
        "      H += h_diff \n",
        "      W += w_diff \n",
        "  W *= X_max\n",
        "  return H, W \n",
        "\n"
      ],
      "execution_count": 108,
      "outputs": []
    },
    {
      "cell_type": "code",
      "metadata": {
        "id": "LgRefQQEt7n2"
      },
      "source": [
        "temp = X[0].reshape(28, 28)\n",
        "H, W = NMF(temp, 28)\n"
      ],
      "execution_count": 118,
      "outputs": []
    },
    {
      "cell_type": "code",
      "metadata": {
        "colab": {
          "base_uri": "https://localhost:8080/",
          "height": 283
        },
        "id": "MuTZa3Ji6XiW",
        "outputId": "7d21d24d-0b29-411f-b5d2-e785d7705759"
      },
      "source": [
        "plt.imshow(W,cmap='gray')"
      ],
      "execution_count": 110,
      "outputs": [
        {
          "output_type": "execute_result",
          "data": {
            "text/plain": [
              "<matplotlib.image.AxesImage at 0x7f3ac6aa55d0>"
            ]
          },
          "metadata": {},
          "execution_count": 110
        },
        {
          "output_type": "display_data",
          "data": {
            "image/png": "[encoded data removed]",
            "text/plain": [
              "<Figure size 432x288 with 1 Axes>"
            ]
          },
          "metadata": {
            "needs_background": "light"
          }
        }
      ]
    },
    {
      "cell_type": "code",
      "metadata": {
        "colab": {
          "base_uri": "https://localhost:8080/",
          "height": 283
        },
        "id": "Rp1OoXHG6bsN",
        "outputId": "40535a7a-4cc7-48a1-df63-7e69cdc7bb32"
      },
      "source": [
        "plt.imshow(H, cmap='gray')"
      ],
      "execution_count": 111,
      "outputs": [
        {
          "output_type": "execute_result",
          "data": {
            "text/plain": [
              "<matplotlib.image.AxesImage at 0x7f3ac67c2310>"
            ]
          },
          "metadata": {},
          "execution_count": 111
        },
        {
          "output_type": "display_data",
          "data": {
            "image/png": "[encoded data removed]",
            "text/plain": [
              "<Figure size 432x288 with 1 Axes>"
            ]
          },
          "metadata": {
            "needs_background": "light"
          }
        }
      ]
    },
    {
      "cell_type": "code",
      "metadata": {
        "colab": {
          "base_uri": "https://localhost:8080/",
          "height": 283
        },
        "id": "lOJ__xM_xPsY",
        "outputId": "e37f2c09-f288-452e-a6d2-9295d15bb426"
      },
      "source": [
        "plt.imshow(np.dot(H, W), cmap='gray')"
      ],
      "execution_count": 112,
      "outputs": [
        {
          "output_type": "execute_result",
          "data": {
            "text/plain": [
              "<matplotlib.image.AxesImage at 0x7f3ad64e9610>"
            ]
          },
          "metadata": {},
          "execution_count": 112
        },
        {
          "output_type": "display_data",
          "data": {
            "image/png": "[encoded data removed]",
            "text/plain": [
              "<Figure size 432x288 with 1 Axes>"
            ]
          },
          "metadata": {
            "needs_background": "light"
          }
        }
      ]
    },
    {
      "cell_type": "code",
      "metadata": {
        "colab": {
          "base_uri": "https://localhost:8080/",
          "height": 283
        },
        "id": "D8Eswk162aY1",
        "outputId": "ed4baeac-5fee-4599-f9be-2e0b9305e630"
      },
      "source": [
        "plt.imshow(temp, cmap='gray')"
      ],
      "execution_count": 113,
      "outputs": [
        {
          "output_type": "execute_result",
          "data": {
            "text/plain": [
              "<matplotlib.image.AxesImage at 0x7f3ad163cfd0>"
            ]
          },
          "metadata": {},
          "execution_count": 113
        },
        {
          "output_type": "display_data",
          "data": {
            "image/png": "[encoded data removed]",
            "text/plain": [
              "<Figure size 432x288 with 1 Axes>"
            ]
          },
          "metadata": {
            "needs_background": "light"
          }
        }
      ]
    },
    {
      "cell_type": "code",
      "metadata": {
        "id": "g93K_3w38MmJ"
      },
      "source": [
        "def pca(X, ndims):\n",
        "\n",
        "    rows,cols=X.shape\n",
        "    mean_vec = np.mean(X, axis=0)\n",
        "    X = X - mean_vec\n",
        "    cov_mat = np.cov(X, rowvar=0)\n",
        "    D, V = np.linalg.eig(cov_mat)\n",
        "    eig_val = np.argsort(D)\n",
        "    top_eig_val = eig_val[-1:-(ndims+1):-1]\n",
        "    top_eig_vecs = V[:,top_eig_val].astype(float)\n",
        "\n",
        "\n",
        "\n",
        "    return mean_vec, top_eig_vecs\n",
        "\n",
        "def pca_projection(X, mean_vec, eig_vecs):\n",
        "    X -= mean_vec\n",
        "    weights = X@eig_vecs\n",
        "\n",
        "\n",
        "    return weights\n",
        "\n",
        "def pca_reconstruction(weights, mean_vec, eig_vecs):\n",
        "    reconstruction = weights @ eig_vecs.T + mean_vec\n",
        "\n",
        "\n",
        "    return reconstruction"
      ],
      "execution_count": 123,
      "outputs": []
    },
    {
      "cell_type": "code",
      "metadata": {
        "colab": {
          "base_uri": "https://localhost:8080/",
          "height": 283
        },
        "id": "pY16kLzI8Pke",
        "outputId": "b1bec721-dc9e-4ce0-c7ee-343b0fa1109f"
      },
      "source": [
        "mean_vec, top_eig_vecs = pca(temp,28)\n",
        "weights = pca_projection(temp,mean_vec,top_eig_vecs)\n",
        "reconstruction = pca_reconstruction(weights,mean_vec,top_eig_vecs)\n",
        "plt.imshow(reconstruction, cmap='gray')"
      ],
      "execution_count": 125,
      "outputs": [
        {
          "output_type": "execute_result",
          "data": {
            "text/plain": [
              "<matplotlib.image.AxesImage at 0x7f3ac646f390>"
            ]
          },
          "metadata": {},
          "execution_count": 125
        },
        {
          "output_type": "display_data",
          "data": {
            "image/png": "[encoded data removed]",
            "text/plain": [
              "<Figure size 432x288 with 1 Axes>"
            ]
          },
          "metadata": {
            "needs_background": "light"
          }
        }
      ]
    },
    {
      "cell_type": "code",
      "metadata": {
        "id": "LShKT5wp5Fo2"
      },
      "source": [
        "import numpy as np\n",
        "import matplotlib.pyplot as plt\n",
        "import sklearn.datasets\n",
        "import pandas as pd\n",
        "\n",
        "data= sklearn.datasets.fetch_olivetti_faces()\n",
        "temp = data.data[0].reshape(64, 64)"
      ],
      "execution_count": 114,
      "outputs": []
    },
    {
      "cell_type": "code",
      "metadata": {
        "colab": {
          "base_uri": "https://localhost:8080/",
          "height": 286
        },
        "id": "YMBT67_k7cEi",
        "outputId": "040f9853-50f9-4217-ba05-4e7a6729778a"
      },
      "source": [
        "H, W = NMF(temp, 64)\n",
        "plt.imshow(temp, cmap='gray')\n"
      ],
      "execution_count": 116,
      "outputs": [
        {
          "output_type": "execute_result",
          "data": {
            "text/plain": [
              "<matplotlib.image.AxesImage at 0x7f3ac70aa110>"
            ]
          },
          "metadata": {},
          "execution_count": 116
        },
        {
          "output_type": "display_data",
          "data": {
            "image/png": "[encoded data removed]",
            "text/plain": [
              "<Figure size 432x288 with 1 Axes>"
            ]
          },
          "metadata": {
            "needs_background": "light"
          }
        }
      ]
    },
    {
      "cell_type": "code",
      "metadata": {
        "colab": {
          "base_uri": "https://localhost:8080/",
          "height": 286
        },
        "id": "glMYS7JA7mS2",
        "outputId": "50ee4987-5bd8-42d9-b7c3-3d4d2a18e68d"
      },
      "source": [
        "plt.imshow(np.dot(H, W),cmap='gray')"
      ],
      "execution_count": 117,
      "outputs": [
        {
          "output_type": "execute_result",
          "data": {
            "text/plain": [
              "<matplotlib.image.AxesImage at 0x7f3ac69bfb50>"
            ]
          },
          "metadata": {},
          "execution_count": 117
        },
        {
          "output_type": "display_data",
          "data": {
            "image/png": "[encoded data removed]",
            "text/plain": [
              "<Figure size 432x288 with 1 Axes>"
            ]
          },
          "metadata": {
            "needs_background": "light"
          }
        }
      ]
    }
  ]
}